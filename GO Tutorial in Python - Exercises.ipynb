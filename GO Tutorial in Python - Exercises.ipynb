{
 "cells": [
  {
   "cell_type": "markdown",
   "metadata": {},
   "source": [
    "# A Gene Ontology Tutorial in Python - Model Solutions to Exercises"
   ]
  },
  {
   "cell_type": "markdown",
   "metadata": {},
   "source": [
    "These electronic exercises (with solutions) accompany the book chapter \"A Gene Ontology Tutorial in Python\" by Alex Warwick Vesztrocy and Christophe Dessimoz, to appear in _The Gene Ontology Handbook_, C Dessimoz and N Skunca Eds, Springer Humana.\n",
    "\n",
    "Version: 1.0.2 (Feb 2019): _Updated QuickGO API calls and usage of GOATOOLS to version 0.8.12_"
   ]
  },
  {
   "cell_type": "markdown",
   "metadata": {},
   "source": [
    "## Section 2 - Querying the Gene Ontology\n",
    "\n",
    "First, we need to load the GOATools library. This enables us to parse the Gene Ontology (GO) OBO file. For more information on GOATools, see <a href=\"https://github.com/tanghaibao/goatools\">their documentation</a>."
   ]
  },
  {
   "cell_type": "code",
   "execution_count": null,
   "metadata": {},
   "outputs": [],
   "source": [
    "# Import the OBO parser from GOATools\n",
    "from goatools import obo_parser"
   ]
  },
  {
   "cell_type": "markdown",
   "metadata": {},
   "source": [
    "In order to download the GO OBO file, we also require the <code>wget</code> and <code>os</code> libraries."
   ]
  },
  {
   "cell_type": "code",
   "execution_count": null,
   "metadata": {},
   "outputs": [],
   "source": [
    "import wget\n",
    "import os"
   ]
  },
  {
   "cell_type": "markdown",
   "metadata": {},
   "source": [
    "Now, we can download the OBO file into the <code>'./data'</code> folder using the following. We are going to download the <code>go-basic.obo</code> version of the ontology, which is guaranteed to be acyclic, which means that annotations can be propagated up the graph."
   ]
  },
  {
   "cell_type": "code",
   "execution_count": null,
   "metadata": {},
   "outputs": [],
   "source": [
    "go_obo_url = 'http://purl.obolibrary.org/obo/go/go-basic.obo'\n",
    "data_folder = os.getcwd() + '/data'\n",
    "\n",
    "# Check if we have the ./data directory already\n",
    "if(not os.path.isfile(data_folder)):\n",
    "    # Emulate mkdir -p (no error if folder exists)\n",
    "    try:\n",
    "        os.mkdir(data_folder)\n",
    "    except OSError as e:\n",
    "        if(e.errno != 17):\n",
    "            raise e\n",
    "else:\n",
    "    raise Exception('Data path (' + data_folder + ') exists as a file. '\n",
    "                   'Please rename, remove or change the desired location of the data path.')\n",
    "\n",
    "# Check if the file exists already\n",
    "if(not os.path.isfile(data_folder+'/go-basic.obo')):\n",
    "    go_obo = wget.download(go_obo_url, data_folder+'/go-basic.obo')\n",
    "else:\n",
    "    go_obo = data_folder+'/go-basic.obo'"
   ]
  },
  {
   "cell_type": "markdown",
   "metadata": {},
   "source": [
    "The path to the GO OBO file is now stored in the variable <code>go_obo</code>."
   ]
  },
  {
   "cell_type": "code",
   "execution_count": null,
   "metadata": {},
   "outputs": [],
   "source": [
    "print(go_obo)"
   ]
  },
  {
   "cell_type": "markdown",
   "metadata": {},
   "source": [
    "Now we can create a dictionary of the GO terms, using the <code>obo_parser</code> from GOATools."
   ]
  },
  {
   "cell_type": "code",
   "execution_count": null,
   "metadata": {},
   "outputs": [],
   "source": [
    "go = obo_parser.GODag(go_obo)"
   ]
  },
  {
   "cell_type": "markdown",
   "metadata": {},
   "source": [
    "### Exercises 2.1\n",
    "#### Question 2.1.a. \n",
    "What is the name of the GO term <code>GO:00048527</code>?"
   ]
  },
  {
   "cell_type": "markdown",
   "metadata": {},
   "source": [
    "#### Answer 2.1.a."
   ]
  },
  {
   "cell_type": "code",
   "execution_count": null,
   "metadata": {},
   "outputs": [],
   "source": []
  },
  {
   "cell_type": "markdown",
   "metadata": {},
   "source": [
    "#### Question 2.1.b. \n",
    "What are the immediate parent(s) of the term <code>GO:00048527</code>?"
   ]
  },
  {
   "cell_type": "markdown",
   "metadata": {},
   "source": [
    "#### Answer 2.1.b."
   ]
  },
  {
   "cell_type": "code",
   "execution_count": null,
   "metadata": {},
   "outputs": [],
   "source": []
  },
  {
   "cell_type": "markdown",
   "metadata": {},
   "source": [
    "#### Question 2.1.c. \n",
    "What are the immediate children of the term <code>GO:00048527</code>?"
   ]
  },
  {
   "cell_type": "markdown",
   "metadata": {},
   "source": [
    "#### Answer 2.1.c."
   ]
  },
  {
   "cell_type": "code",
   "execution_count": null,
   "metadata": {},
   "outputs": [],
   "source": []
  },
  {
   "cell_type": "markdown",
   "metadata": {},
   "source": [
    "#### Question 2.1.d. \n",
    "Recursively find all the parent and child terms of the term <code>GO:00048527</code>. _Hint_: use your solutions to the previous two questions, with a recursive loop."
   ]
  },
  {
   "cell_type": "markdown",
   "metadata": {},
   "source": [
    "#### Answer 2.1.d."
   ]
  },
  {
   "cell_type": "code",
   "execution_count": null,
   "metadata": {},
   "outputs": [],
   "source": []
  },
  {
   "cell_type": "markdown",
   "metadata": {},
   "source": [
    "#### Question 2.1.e. \n",
    "How many GO terms have the word “growth” in their name?"
   ]
  },
  {
   "cell_type": "markdown",
   "metadata": {},
   "source": [
    "#### Answer 2.1.e."
   ]
  },
  {
   "cell_type": "code",
   "execution_count": null,
   "metadata": {},
   "outputs": [],
   "source": []
  },
  {
   "cell_type": "markdown",
   "metadata": {},
   "source": [
    "#### Question 2.1.f.\n",
    "What is the deepest common ancestor term of <code>GO:0048527</code> and <code>GO:0097178</code>?"
   ]
  },
  {
   "cell_type": "markdown",
   "metadata": {},
   "source": [
    "#### Answer 2.1.f."
   ]
  },
  {
   "cell_type": "code",
   "execution_count": null,
   "metadata": {},
   "outputs": [],
   "source": []
  },
  {
   "cell_type": "markdown",
   "metadata": {},
   "source": [
    "### Exercises 2.2\n",
    "Using the visualisation function in GOATools, answer the following questions.\n",
    "\n",
    "#### Question 2.2.a. \n",
    "Produce a figure similar to that in Figure 1 of the chapter, for the GO term <code>GO:0097190</code>. From the visualisation, what is the name of this term?"
   ]
  },
  {
   "cell_type": "markdown",
   "metadata": {},
   "source": [
    "#### Answer 2.2.a"
   ]
  },
  {
   "cell_type": "code",
   "execution_count": null,
   "metadata": {},
   "outputs": [],
   "source": []
  },
  {
   "cell_type": "markdown",
   "metadata": {},
   "source": [
    "#### Question 2.2.b.\n",
    "Using this figure, what is the most specific term that is in the parent terms of both <code>GO:0097191</code> and <code>GO:0038034</code>? This is also referred to as the lowest common ancestor."
   ]
  },
  {
   "cell_type": "markdown",
   "metadata": {},
   "source": [
    "#### Answer 2.2.b."
   ]
  },
  {
   "cell_type": "code",
   "execution_count": null,
   "metadata": {},
   "outputs": [],
   "source": []
  },
  {
   "cell_type": "markdown",
   "metadata": {},
   "source": [
    "### Exercises 2.3\n",
    "Using the <code>get_term()</code> function, listed below, answer the following questions.\n",
    "\n",
    "*Note*: the <code>get_oboxml()</code> function listed in the chapter, in Source Code 2.1, will no longer work. This is due to an API overhaul of the EMBL-EBI's QuickGO browser.\n",
    "\n",
    "For the interested reader, it is also possible to use the <a href=\"https://github.com/cokelaer/bioservices\"><code>bioservices</code> library</a>, in order to retrieve information from QuickGO (as well as many other web services)."
   ]
  },
  {
   "cell_type": "code",
   "execution_count": null,
   "metadata": {},
   "outputs": [],
   "source": [
    "from future.standard_library import install_aliases\n",
    "install_aliases()\n",
    "from urllib.request import urlopen\n",
    "import json\n",
    "\n",
    "def get_term(go_id):\n",
    "    \"\"\"\n",
    "        This function retrieves the definition of a given Gene Ontology term,\n",
    "        using EMBL-EBI's QuickGO browser.\n",
    "        Input: go_id - a valid Gene Ontology ID, e.g. GO:0048527.\n",
    "    \"\"\"\n",
    "    quickgo_url = \"https://www.ebi.ac.uk/QuickGO/services/ontology/go/terms/\" + go_id\n",
    "    ret = urlopen(quickgo_url)\n",
    "    \n",
    "    # Check the response\n",
    "    if(ret.getcode() == 200):\n",
    "        term = json.loads(ret.read())\n",
    "        return term['results'][0]\n",
    "    else:\n",
    "        raise ValueError(\"Couldn't receive information from QuickGO. Check GO ID and try again.\")"
   ]
  },
  {
   "cell_type": "markdown",
   "metadata": {},
   "source": [
    "#### Question 2.3.a. \n",
    "Find the name and description of the GO term <code>GO:0048527</code>. _Hint_: print out the dictionary returned by the function and study its structure."
   ]
  },
  {
   "cell_type": "markdown",
   "metadata": {},
   "source": [
    "#### Answer 2.3.a."
   ]
  },
  {
   "cell_type": "code",
   "execution_count": null,
   "metadata": {},
   "outputs": [],
   "source": []
  },
  {
   "cell_type": "markdown",
   "metadata": {},
   "source": [
    "#### Question 2.3.b.\n",
    "Look at the difference in the OBO-XML output for the GO terms <code>GO:00048527</code> and <code>GO:0097178</code>, then generate a table of the synonymous relationships of the term <code>GO:0097178</code>."
   ]
  },
  {
   "cell_type": "markdown",
   "metadata": {},
   "source": [
    "#### Answer 2.3.b."
   ]
  },
  {
   "cell_type": "code",
   "execution_count": null,
   "metadata": {},
   "outputs": [],
   "source": []
  },
  {
   "cell_type": "markdown",
   "metadata": {},
   "source": [
    "## Section 3 - Retrieving GO annotations\n",
    "\n",
    "In this section we will look at how to manipulate the Gene Association File (GAF) standard, using a parser from the BioPython package."
   ]
  },
  {
   "cell_type": "code",
   "execution_count": null,
   "metadata": {},
   "outputs": [],
   "source": [
    "import Bio.UniProt.GOA as GOA"
   ]
  },
  {
   "cell_type": "markdown",
   "metadata": {},
   "source": [
    "First we need to download a GAF file from the EBI FTP website, which hosts the current and all previous UniProt-GOA annotations. The links to these can be found on the <a href=\"https://www.ebi.ac.uk/GOA/downloads\">EBI GOA Downloads page</a>. "
   ]
  },
  {
   "cell_type": "markdown",
   "metadata": {},
   "source": [
    "As an example, we are going to download the reduced GAF file containing gene association data for *Arabidopsis Thaliana*."
   ]
  },
  {
   "cell_type": "code",
   "execution_count": null,
   "metadata": {},
   "outputs": [],
   "source": [
    "import os\n",
    "from ftplib import FTP\n",
    "arab_uri = '/pub/databases/GO/goa/ARABIDOPSIS/goa_arabidopsis.gaf.gz'\n",
    "arab_fn = arab_uri.split('/')[-1]\n",
    "\n",
    "# Check if the file exists already\n",
    "arab_gaf = os.path.join(data_folder, arab_fn)\n",
    "if(not os.path.isfile(arab_gaf)):\n",
    "    # Login to FTP server\n",
    "    ebi_ftp = FTP('ftp.ebi.ac.uk')\n",
    "    ebi_ftp.login() # Logs in anonymously\n",
    "    \n",
    "    # Download\n",
    "    with open(arab_gaf,'wb') as arab_fp:\n",
    "        ebi_ftp.retrbinary('RETR {}'.format(arab_uri), arab_fp.write)\n",
    "        \n",
    "    # Logout from FTP server\n",
    "    ebi_ftp.quit()"
   ]
  },
  {
   "cell_type": "markdown",
   "metadata": {},
   "source": [
    "Now we can load all the annotations into a dictionary, using the iterator from the BioPython package (<code>Bio.UniProt.GOA.gafiterator</code>)."
   ]
  },
  {
   "cell_type": "code",
   "execution_count": null,
   "metadata": {},
   "outputs": [],
   "source": [
    "import gzip\n",
    "\n",
    "# File is a gunzip file, so we need to open it in this way\n",
    "with gzip.open(arab_gaf, 'rt') as arab_gaf_fp:\n",
    "    arab_funcs = {}  # Initialise the dictionary of functions\n",
    "    \n",
    "    # Iterate on each function using Bio.UniProt.GOA library.\n",
    "    for entry in GOA.gafiterator(arab_gaf_fp):\n",
    "        uniprot_id = entry.pop('DB_Object_ID')\n",
    "        arab_funcs[uniprot_id] = entry"
   ]
  },
  {
   "cell_type": "markdown",
   "metadata": {},
   "source": [
    "Now we have a structure of the annotations which can manipulated. Each of the entries have been loaded in the following form.\n"
   ]
  },
  {
   "cell_type": "code",
   "execution_count": null,
   "metadata": {},
   "outputs": [],
   "source": [
    "print(arab_funcs[list(arab_funcs.keys())[0]])"
   ]
  },
  {
   "cell_type": "markdown",
   "metadata": {},
   "source": [
    "### Exercises 3.1"
   ]
  },
  {
   "cell_type": "markdown",
   "metadata": {},
   "source": [
    "#### Question 3.1.a.\n",
    "Find the total number of annotations for Arabidopsis thaliana with <code>NOT</code> qualifiers. What is this as a percentage of the total number of annotations for this species?"
   ]
  },
  {
   "cell_type": "markdown",
   "metadata": {},
   "source": [
    "#### Answer 3.1.a."
   ]
  },
  {
   "cell_type": "code",
   "execution_count": null,
   "metadata": {},
   "outputs": [],
   "source": []
  },
  {
   "cell_type": "markdown",
   "metadata": {},
   "source": [
    "#### Question 3.1.b.\n",
    "How many genes (of _Arabidopsis thaliana_) have the annotation <code>GO:0048527</code>?"
   ]
  },
  {
   "cell_type": "markdown",
   "metadata": {},
   "source": [
    "#### Answer 3.1.b."
   ]
  },
  {
   "cell_type": "code",
   "execution_count": null,
   "metadata": {},
   "outputs": [],
   "source": []
  },
  {
   "cell_type": "markdown",
   "metadata": {},
   "source": [
    "#### Question 3.1.c.\n",
    "Generate a list of annotated proteins which have the word _“growth”_ in their name."
   ]
  },
  {
   "cell_type": "markdown",
   "metadata": {},
   "source": [
    "#### Answer 3.1.c."
   ]
  },
  {
   "cell_type": "code",
   "execution_count": null,
   "metadata": {},
   "outputs": [],
   "source": []
  },
  {
   "cell_type": "markdown",
   "metadata": {},
   "source": [
    "#### Question 3.1.d.\n",
    "There are 21 evidence codes used in the Gene Ontology project. As discussed in Chapter 3, many of these are inferred, either by curators or automatically. Find the counts of each evidence code for in the Arabidopsis thaliana annotation file."
   ]
  },
  {
   "cell_type": "markdown",
   "metadata": {},
   "source": [
    "#### Answer 3.1.d."
   ]
  },
  {
   "cell_type": "code",
   "execution_count": null,
   "metadata": {},
   "outputs": [],
   "source": []
  },
  {
   "cell_type": "markdown",
   "metadata": {},
   "source": [
    "#### Question 3.1.f (Extension Question).\n",
    "To help visualise the counts of each evidence code found in the previous question, produce a pie chart showing the proportion of annotations with each evidence code for the *Arabidopsis thaliana* annotations dataset."
   ]
  },
  {
   "cell_type": "markdown",
   "metadata": {},
   "source": [
    "#### Answer 3.1.f."
   ]
  },
  {
   "cell_type": "code",
   "execution_count": null,
   "metadata": {},
   "outputs": [],
   "source": []
  },
  {
   "cell_type": "markdown",
   "metadata": {},
   "source": [
    "## Section 4 - GO enrichment or depletion analysis"
   ]
  },
  {
   "cell_type": "markdown",
   "metadata": {},
   "source": [
    "In this section, the <code>GOEnrichmentStudy()</code> function from the GOATools library will be used to perform GO enrichment analysis."
   ]
  },
  {
   "cell_type": "code",
   "execution_count": null,
   "metadata": {},
   "outputs": [],
   "source": [
    "from goatools.go_enrichment import GOEnrichmentStudy"
   ]
  },
  {
   "cell_type": "markdown",
   "metadata": {},
   "source": [
    "### Exercises 4.1"
   ]
  },
  {
   "cell_type": "markdown",
   "metadata": {},
   "source": [
    "Perform an enrichment analysis using the list of genes with the _\"growth\"_ keyword from exercise 3.1.c, and the GO structure from exercise 2.1."
   ]
  },
  {
   "cell_type": "markdown",
   "metadata": {},
   "source": [
    "The population is the functions observed in the _Arabidopsis thaliana_ GOA file."
   ]
  },
  {
   "cell_type": "code",
   "execution_count": null,
   "metadata": {},
   "outputs": [],
   "source": [
    "pop = arab_funcs.keys()"
   ]
  },
  {
   "cell_type": "markdown",
   "metadata": {},
   "source": [
    "Then, we need to create a dictionary of genes with their UniProt ID as a key and their set of GO annotations as the values."
   ]
  },
  {
   "cell_type": "code",
   "execution_count": null,
   "metadata": {},
   "outputs": [],
   "source": [
    "assoc = {}\n",
    "\n",
    "for x in arab_funcs:\n",
    "    if x not in assoc:\n",
    "        assoc[x] = set()\n",
    "    assoc[x].add(str(arab_funcs[x]['GO_ID']))"
   ]
  },
  {
   "cell_type": "markdown",
   "metadata": {},
   "source": [
    "Now, the study set here is those genes with the _\"growth\"_ keyword, found previously."
   ]
  },
  {
   "cell_type": "code",
   "execution_count": null,
   "metadata": {},
   "outputs": [],
   "source": [
    "study = growth_dict.keys()"
   ]
  },
  {
   "cell_type": "markdown",
   "metadata": {},
   "source": [
    "#### Question 4.1.a.\n",
    "Which GO term is most significantly enriched or depleted? Does this make sense?"
   ]
  },
  {
   "cell_type": "markdown",
   "metadata": {},
   "source": [
    "#### Answer 4.1.a."
   ]
  },
  {
   "cell_type": "code",
   "execution_count": null,
   "metadata": {},
   "outputs": [],
   "source": []
  },
  {
   "cell_type": "markdown",
   "metadata": {},
   "source": [
    "#### Question 4.1.b.\n",
    "How many terms are enriched, when using the Bonferroni corrected method and a p-value $\\le$ 0.01?"
   ]
  },
  {
   "cell_type": "markdown",
   "metadata": {},
   "source": [
    "#### Answer 4.1.b."
   ]
  },
  {
   "cell_type": "code",
   "execution_count": null,
   "metadata": {},
   "outputs": [],
   "source": []
  },
  {
   "cell_type": "markdown",
   "metadata": {},
   "source": [
    "#### Question 4.1.c.\n",
    "How many terms are enriched with false discovery rate (a.k.a. q-value) $\\le$ 0.01?"
   ]
  },
  {
   "cell_type": "markdown",
   "metadata": {},
   "source": [
    "#### Answer 4.1.c."
   ]
  },
  {
   "cell_type": "code",
   "execution_count": null,
   "metadata": {},
   "outputs": [],
   "source": []
  },
  {
   "cell_type": "markdown",
   "metadata": {},
   "source": [
    "## Section 5 - Computing basic semantic similarities between GO terms"
   ]
  },
  {
   "cell_type": "markdown",
   "metadata": {},
   "source": [
    "In this section we look at how to compute semantic similarity between GO terms."
   ]
  },
  {
   "cell_type": "code",
   "execution_count": null,
   "metadata": {},
   "outputs": [],
   "source": [
    "from collections import Counter\n",
    "class TermCounts():\n",
    "    '''\n",
    "        TermCounts counts the term counts for each \n",
    "    '''\n",
    "    def __init__(self, go, annots):\n",
    "        '''\n",
    "            Initialise the counts and  \n",
    "        '''\n",
    "        # Backup\n",
    "        self._go = go\n",
    "        \n",
    "        # Initialise the counters\n",
    "        self._counts = Counter()\n",
    "        self._aspect_counts = Counter()\n",
    "        \n",
    "        # Fill the counters...\n",
    "        self._count_terms(go, annots)\n",
    "        \n",
    "    def _count_terms(self, go, annots):\n",
    "        '''\n",
    "            Fills in the counts and overall aspect counts.\n",
    "        '''\n",
    "        for x in annots:\n",
    "            # Extract term information\n",
    "            go_id = annots[x]['GO_ID']\n",
    "            namespace = go[go_id].namespace\n",
    "\n",
    "            self._counts[go_id] += 1\n",
    "            rec = go[go_id]\n",
    "            parents = rec.get_all_parents()\n",
    "            for p in parents:\n",
    "                self._counts[p] += 1\n",
    "            \n",
    "            self._aspect_counts[namespace] += 1\n",
    "            \n",
    "    def get_count(self, go_id):\n",
    "        '''\n",
    "            Returns the count of that GO term observed in the annotations.\n",
    "        '''\n",
    "        return self._counts[go_id]\n",
    "        \n",
    "    def get_total_count(self, aspect):\n",
    "        '''\n",
    "            Gets the total count that's been precomputed.\n",
    "        '''\n",
    "        return self._aspect_counts[aspect]\n",
    "    \n",
    "    def get_term_freq(self, go_id):\n",
    "        '''\n",
    "            Returns the frequency at which a particular GO term has \n",
    "            been observed in the annotations.\n",
    "        '''\n",
    "        try:\n",
    "            namespace = self._go[go_id].namespace\n",
    "            freq = float(self.get_count(go_id)) / float(self.get_total_count(namespace))\n",
    "        except ZeroDivisionError:\n",
    "            freq = 0\n",
    "        \n",
    "        return freq"
   ]
  },
  {
   "cell_type": "markdown",
   "metadata": {},
   "source": [
    "#### Question 5.1.a.\n",
    "<code>GO:0048364</code> (root development) and <code>GO:0044707</code> (single-multicellular organism process) are two GO terms taken from Figure 1. Calculate the semantic similarity between them based on the inverse of the semantic distance (number of branches separating them)."
   ]
  },
  {
   "cell_type": "markdown",
   "metadata": {},
   "source": [
    "#### Answer 5.1.a."
   ]
  },
  {
   "cell_type": "code",
   "execution_count": null,
   "metadata": {},
   "outputs": [],
   "source": []
  },
  {
   "cell_type": "markdown",
   "metadata": {},
   "source": [
    "#### Question 5.1.b.\n",
    "Calculate the  the information content (IC) of the GO term <code>GO:0048364</code> (root development), based on the frequency of observation in _Arabidopsis thaliana_."
   ]
  },
  {
   "cell_type": "markdown",
   "metadata": {},
   "source": [
    "#### Answer 5.1.b."
   ]
  },
  {
   "cell_type": "code",
   "execution_count": null,
   "metadata": {},
   "outputs": [],
   "source": []
  },
  {
   "cell_type": "markdown",
   "metadata": {},
   "source": [
    "#### Question 5.1.c.\n",
    "Calculate the Resnik similarity measure between the same two terms as in 5.1.a."
   ]
  },
  {
   "cell_type": "markdown",
   "metadata": {},
   "source": [
    "#### Answer 5.1.c."
   ]
  },
  {
   "cell_type": "code",
   "execution_count": null,
   "metadata": {},
   "outputs": [],
   "source": []
  }
 ],
 "metadata": {
  "kernelspec": {
   "display_name": "Python 3",
   "language": "python",
   "name": "python3"
  },
  "language_info": {
   "codemirror_mode": {
    "name": "ipython",
    "version": 3
   },
   "file_extension": ".py",
   "mimetype": "text/x-python",
   "name": "python",
   "nbconvert_exporter": "python",
   "pygments_lexer": "ipython3",
   "version": "3.7.1"
  }
 },
 "nbformat": 4,
 "nbformat_minor": 1
}
