{
 "cells": [
  {
   "cell_type": "markdown",
   "metadata": {},
   "source": [
    "# A Gene Ontology Tutorial in Python - Model Solutions to Exercises"
   ]
  },
  {
   "cell_type": "markdown",
   "metadata": {},
   "source": [
    "These electronic exercises (with solutions) accompany the book chapter \"A Gene Ontology Tutorial in Python\" by Alex Warwick Vesztrocy and Christophe Dessimoz, to appear in _The Gene Ontology Handbook_, C Dessimoz and N Skunca Eds, Springer Humana.\n",
    "\n",
    "Version: 1.0.2 (Feb 2019): _Updated QuickGO API calls and usage of GOATOOLS to version 0.8.12_"
   ]
  },
  {
   "cell_type": "markdown",
   "metadata": {},
   "source": [
    "## Section 2 - Querying the Gene Ontology\n",
    "\n",
    "First, we need to load the GOATools library. This enables us to parse the Gene Ontology (GO) OBO file. For more information on GOATools, see <a href=\"https://github.com/tanghaibao/goatools\">their documentation</a>."
   ]
  },
  {
   "cell_type": "code",
   "execution_count": 1,
   "metadata": {},
   "outputs": [],
   "source": [
    "# Import the OBO parser from GOATools\n",
    "from goatools import obo_parser"
   ]
  },
  {
   "cell_type": "markdown",
   "metadata": {},
   "source": [
    "In order to download the GO OBO file, we also require the <code>wget</code> and <code>os</code> libraries."
   ]
  },
  {
   "cell_type": "code",
   "execution_count": 2,
   "metadata": {},
   "outputs": [],
   "source": [
    "import wget\n",
    "import os"
   ]
  },
  {
   "cell_type": "markdown",
   "metadata": {},
   "source": [
    "Now, we can download the OBO file into the <code>'./data'</code> folder using the following. We are going to download the <code>go-basic.obo</code> version of the ontology, which is guaranteed to be acyclic, which means that annotations can be propagated up the graph."
   ]
  },
  {
   "cell_type": "code",
   "execution_count": 3,
   "metadata": {},
   "outputs": [],
   "source": [
    "go_obo_url = 'http://purl.obolibrary.org/obo/go/go-basic.obo'\n",
    "data_folder = os.getcwd() + '/data'\n",
    "\n",
    "# Check if we have the ./data directory already\n",
    "if(not os.path.isfile(data_folder)):\n",
    "    # Emulate mkdir -p (no error if folder exists)\n",
    "    try:\n",
    "        os.mkdir(data_folder)\n",
    "    except OSError as e:\n",
    "        if(e.errno != 17):\n",
    "            raise e\n",
    "else:\n",
    "    raise Exception('Data path (' + data_folder + ') exists as a file. '\n",
    "                   'Please rename, remove or change the desired location of the data path.')\n",
    "\n",
    "# Check if the file exists already\n",
    "if(not os.path.isfile(data_folder+'/go-basic.obo')):\n",
    "    go_obo = wget.download(go_obo_url, data_folder+'/go-basic.obo')\n",
    "else:\n",
    "    go_obo = data_folder+'/go-basic.obo'"
   ]
  },
  {
   "cell_type": "markdown",
   "metadata": {},
   "source": [
    "The path to the GO OBO file is now stored in the variable <code>go_obo</code>."
   ]
  },
  {
   "cell_type": "code",
   "execution_count": 4,
   "metadata": {},
   "outputs": [
    {
     "name": "stdout",
     "output_type": "stream",
     "text": [
      "/Users/alex/go-handbook-live/data/go-basic.obo\n"
     ]
    }
   ],
   "source": [
    "print(go_obo)"
   ]
  },
  {
   "cell_type": "markdown",
   "metadata": {},
   "source": [
    "Now we can create a dictionary of the GO terms, using the <code>obo_parser</code> from GOATools."
   ]
  },
  {
   "cell_type": "code",
   "execution_count": 5,
   "metadata": {},
   "outputs": [
    {
     "name": "stdout",
     "output_type": "stream",
     "text": [
      "/Users/alex/go-handbook-live/data/go-basic.obo: fmt(1.2) rel(2019-01-27) 47,381 GO Terms\n"
     ]
    }
   ],
   "source": [
    "go = obo_parser.GODag(go_obo)"
   ]
  },
  {
   "cell_type": "markdown",
   "metadata": {},
   "source": [
    "### Exercises 2.1\n",
    "#### Question 2.1.a. \n",
    "What is the name of the GO term <code>GO:00048527</code>?"
   ]
  },
  {
   "cell_type": "markdown",
   "metadata": {},
   "source": [
    "#### Answer 2.1.a."
   ]
  },
  {
   "cell_type": "code",
   "execution_count": 6,
   "metadata": {},
   "outputs": [
    {
     "name": "stdout",
     "output_type": "stream",
     "text": [
      "GO:0048527\tlevel-05\tdepth-06\tlateral root development [biological_process]\n"
     ]
    }
   ],
   "source": [
    "go_id = 'GO:0048527'\n",
    "go_term = go[go_id]\n",
    "print(go_term)"
   ]
  },
  {
   "cell_type": "code",
   "execution_count": 7,
   "metadata": {},
   "outputs": [
    {
     "name": "stdout",
     "output_type": "stream",
     "text": [
      "GO term name: lateral root development\n",
      "GO term namespace: biological_process\n"
     ]
    }
   ],
   "source": [
    "print('GO term name: {}'.format(go_term.name))\n",
    "print('GO term namespace: {}'.format(go_term.namespace))"
   ]
  },
  {
   "cell_type": "markdown",
   "metadata": {},
   "source": [
    "#### Question 2.1.b. \n",
    "What are the immediate parent(s) of the term <code>GO:00048527</code>?"
   ]
  },
  {
   "cell_type": "markdown",
   "metadata": {},
   "source": [
    "#### Answer 2.1.b."
   ]
  },
  {
   "cell_type": "code",
   "execution_count": 8,
   "metadata": {},
   "outputs": [
    {
     "name": "stdout",
     "output_type": "stream",
     "text": [
      "GO:0048528\tlevel-04\tdepth-05\tpost-embryonic root development [biological_process]\n"
     ]
    }
   ],
   "source": [
    "for term in go_term.parents:\n",
    "    print(term)"
   ]
  },
  {
   "cell_type": "markdown",
   "metadata": {},
   "source": [
    "#### Question 2.1.c. \n",
    "What are the immediate children of the term <code>GO:00048527</code>?"
   ]
  },
  {
   "cell_type": "markdown",
   "metadata": {},
   "source": [
    "#### Answer 2.1.c."
   ]
  },
  {
   "cell_type": "code",
   "execution_count": 9,
   "metadata": {},
   "outputs": [],
   "source": [
    "for term in go_term.children:\n",
    "    print(term)"
   ]
  },
  {
   "cell_type": "markdown",
   "metadata": {},
   "source": [
    "#### Question 2.1.d. \n",
    "Recursively find all the parent and child terms of the term <code>GO:00048527</code>. _Hint_: use your solutions to the previous two questions, with a recursive loop."
   ]
  },
  {
   "cell_type": "markdown",
   "metadata": {},
   "source": [
    "#### Answer 2.1.d."
   ]
  },
  {
   "cell_type": "markdown",
   "metadata": {},
   "source": [
    "First, we can define functions to find the parents and children of a GO term, as well as one that finds both - the transitive closure."
   ]
  },
  {
   "cell_type": "code",
   "execution_count": 10,
   "metadata": {},
   "outputs": [],
   "source": [
    "def transitive_closure(go_term, go):\n",
    "    go_term_set = set()\n",
    "    find_parents(go_term, go, go_term_set)\n",
    "    find_children(go_term, go, go_term_set)\n",
    "    return go_term_set\n",
    "    \n",
    "def find_parents(term1, go, go_term_set={}, ret=False):\n",
    "    for term2 in term1.parents:\n",
    "        go_term_set.update({term2})\n",
    "        \n",
    "        # Recurse on term to find all parents\n",
    "        find_parents(term2, go, go_term_set)          \n",
    "    if(ret):\n",
    "        return go_term_set\n",
    "\n",
    "def find_children(term1, go, go_term_set={}, ret=False):\n",
    "    for term2 in term1.children:\n",
    "        go_term_set.update({term2})\n",
    "        \n",
    "        # Recurse on term to find all children\n",
    "        find_children(term2, go, go_term_set)\n",
    "    if(ret):\n",
    "        return go_term_set"
   ]
  },
  {
   "cell_type": "markdown",
   "metadata": {},
   "source": [
    "Now we can create the transitive closure as a set by calling the following."
   ]
  },
  {
   "cell_type": "code",
   "execution_count": 11,
   "metadata": {},
   "outputs": [],
   "source": [
    "go_term_set = transitive_closure(go_term, go)"
   ]
  },
  {
   "cell_type": "markdown",
   "metadata": {},
   "source": [
    "We can now print this out using the \"pretty print\"f eature that is inherited from GOATools."
   ]
  },
  {
   "cell_type": "code",
   "execution_count": 12,
   "metadata": {},
   "outputs": [
    {
     "name": "stdout",
     "output_type": "stream",
     "text": [
      "GO:0099402\tlevel-03\tdepth-03\tplant organ development [biological_process]\n",
      "GO:0048364\tlevel-04\tdepth-04\troot development [biological_process]\n",
      "GO:0048856\tlevel-02\tdepth-02\tanatomical structure development [biological_process]\n",
      "GO:0090696\tlevel-03\tdepth-04\tpost-embryonic plant organ development [biological_process]\n",
      "GO:0032501\tlevel-01\tdepth-01\tmulticellular organismal process [biological_process]\n",
      "GO:0032502\tlevel-01\tdepth-01\tdevelopmental process [biological_process]\n",
      "GO:0048528\tlevel-04\tdepth-05\tpost-embryonic root development [biological_process]\n",
      "GO:0009791\tlevel-02\tdepth-02\tpost-embryonic development [biological_process]\n",
      "GO:0008150\tlevel-00\tdepth-00\tbiological_process [biological_process]\n"
     ]
    }
   ],
   "source": [
    "for term in go_term_set:\n",
    "    print(term)"
   ]
  },
  {
   "cell_type": "markdown",
   "metadata": {},
   "source": [
    "An alternative method is by using an inbuilt function of GOATools."
   ]
  },
  {
   "cell_type": "code",
   "execution_count": 13,
   "metadata": {},
   "outputs": [],
   "source": [
    "rec = go[go_id]\n",
    "parents = rec.get_all_parents()\n",
    "children = rec.get_all_children()"
   ]
  },
  {
   "cell_type": "code",
   "execution_count": 14,
   "metadata": {},
   "outputs": [
    {
     "name": "stdout",
     "output_type": "stream",
     "text": [
      "GO:0032502\tlevel-01\tdepth-01\tdevelopmental process [biological_process]\n",
      "GO:0048856\tlevel-02\tdepth-02\tanatomical structure development [biological_process]\n",
      "GO:0090696\tlevel-03\tdepth-04\tpost-embryonic plant organ development [biological_process]\n",
      "GO:0009791\tlevel-02\tdepth-02\tpost-embryonic development [biological_process]\n",
      "GO:0008150\tlevel-00\tdepth-00\tbiological_process [biological_process]\n",
      "GO:0099402\tlevel-03\tdepth-03\tplant organ development [biological_process]\n",
      "GO:0048528\tlevel-04\tdepth-05\tpost-embryonic root development [biological_process]\n",
      "GO:0032501\tlevel-01\tdepth-01\tmulticellular organismal process [biological_process]\n",
      "GO:0048364\tlevel-04\tdepth-04\troot development [biological_process]\n"
     ]
    }
   ],
   "source": [
    "for term in parents.union(children):\n",
    "    print(go[term])"
   ]
  },
  {
   "cell_type": "markdown",
   "metadata": {},
   "source": [
    "#### Question 2.1.e. \n",
    "How many GO terms have the word “growth” in their name?"
   ]
  },
  {
   "cell_type": "markdown",
   "metadata": {},
   "source": [
    "#### Answer 2.1.e."
   ]
  },
  {
   "cell_type": "markdown",
   "metadata": {},
   "source": [
    "To do this, we can loop around every single GO term and check their name."
   ]
  },
  {
   "cell_type": "code",
   "execution_count": 15,
   "metadata": {},
   "outputs": [
    {
     "name": "stdout",
     "output_type": "stream",
     "text": [
      "Number of GO terms with \"growth\" in their name: 626\n"
     ]
    }
   ],
   "source": [
    "growth_count = 0\n",
    "for go_term in go.values():\n",
    "    if 'growth' in go_term.name:\n",
    "        growth_count += 1\n",
    "        \n",
    "print('Number of GO terms with \"growth\" in their name: {}'.format(growth_count))"
   ]
  },
  {
   "cell_type": "markdown",
   "metadata": {},
   "source": [
    "#### Question 2.1.f.\n",
    "What is the deepest common ancestor term of <code>GO:0048527</code> and <code>GO:0097178</code>?"
   ]
  },
  {
   "cell_type": "markdown",
   "metadata": {},
   "source": [
    "#### Answer 2.1.f."
   ]
  },
  {
   "cell_type": "markdown",
   "metadata": {},
   "source": [
    "First, we can write a function that finds the common GO terms."
   ]
  },
  {
   "cell_type": "code",
   "execution_count": 16,
   "metadata": {},
   "outputs": [],
   "source": [
    "def common_parent_go_ids(terms, go):\n",
    "    '''\n",
    "        This function finds the common ancestors in the GO \n",
    "        tree of the list of terms in the input.\n",
    "    '''\n",
    "    # Find candidates from first\n",
    "    rec = go[terms[0]]\n",
    "    candidates = rec.get_all_parents()\n",
    "    candidates.update({terms[0]})\n",
    "    \n",
    "    # Find intersection with second to nth term\n",
    "    for term in terms[1:]:\n",
    "        rec = go[term]\n",
    "        parents = rec.get_all_parents()\n",
    "        parents.update({term})\n",
    "        \n",
    "        # Find the intersection with the candidates, and update.\n",
    "        candidates.intersection_update(parents)\n",
    "        \n",
    "    return candidates"
   ]
  },
  {
   "cell_type": "markdown",
   "metadata": {},
   "source": [
    "Then we can define the deepest common ancestor of two terms, as follows:"
   ]
  },
  {
   "cell_type": "code",
   "execution_count": 17,
   "metadata": {},
   "outputs": [],
   "source": [
    "def deepest_common_ancestor(terms, go):\n",
    "    '''\n",
    "        This function gets the nearest common ancestor \n",
    "        using the above function.\n",
    "        Only returns single most specific - assumes unique exists.\n",
    "    '''\n",
    "    # Take the element at maximum depth. \n",
    "    return max(common_parent_go_ids(terms, go), key=lambda t: go[t].depth)"
   ]
  },
  {
   "cell_type": "markdown",
   "metadata": {},
   "source": [
    "Then we can find the deepest common ancestor of the two terms in question. "
   ]
  },
  {
   "cell_type": "code",
   "execution_count": 18,
   "metadata": {},
   "outputs": [],
   "source": [
    "go_id1 = 'GO:0097178'\n",
    "go_id_id1_dca = deepest_common_ancestor([go_id, go_id1], go)"
   ]
  },
  {
   "cell_type": "code",
   "execution_count": 19,
   "metadata": {},
   "outputs": [
    {
     "name": "stdout",
     "output_type": "stream",
     "text": [
      "The nearest common ancestor of\n",
      "\tGO:0048527 (lateral root development)\n",
      "and\n",
      "\tGO:0097178 (ruffle assembly)\n",
      "is\n",
      "\tGO:0008150 (biological_process)\n"
     ]
    }
   ],
   "source": [
    "print('The nearest common ancestor of\\n\\t{} ({})\\nand\\n\\t{} ({})\\nis\\n\\t{} ({})'\n",
    "      .format(go_id, go[go_id].name, \n",
    "              go_id1, go[go_id1].name,\n",
    "              go_id_id1_dca, go[go_id_id1_dca].name))"
   ]
  },
  {
   "cell_type": "markdown",
   "metadata": {},
   "source": [
    "### Exercises 2.2\n",
    "Using the visualisation function in GOATools, answer the following questions.\n",
    "\n",
    "#### Question 2.2.a. \n",
    "Produce a figure similar to that in Figure 1 of the chapter, for the GO term <code>GO:0097190</code>. From the visualisation, what is the name of this term?"
   ]
  },
  {
   "cell_type": "markdown",
   "metadata": {},
   "source": [
    "#### Answer 2.2.a"
   ]
  },
  {
   "cell_type": "markdown",
   "metadata": {},
   "source": [
    "We first have to create the query to return the record for the GO term <code>GO:0097190</code>."
   ]
  },
  {
   "cell_type": "code",
   "execution_count": 20,
   "metadata": {},
   "outputs": [],
   "source": [
    "go_id2 = 'GO:0097192'\n",
    "rec = go[go_id2]"
   ]
  },
  {
   "cell_type": "markdown",
   "metadata": {},
   "source": [
    "We then need to decide where to save the image file."
   ]
  },
  {
   "cell_type": "code",
   "execution_count": 21,
   "metadata": {},
   "outputs": [],
   "source": [
    "lineage_png = go_id2 + '-lineage.png'"
   ]
  },
  {
   "cell_type": "markdown",
   "metadata": {},
   "source": [
    "Then we can draw the lineage, as so (you may need to install the pygraphviz library via pip if needed):"
   ]
  },
  {
   "cell_type": "code",
   "execution_count": 22,
   "metadata": {},
   "outputs": [
    {
     "name": "stderr",
     "output_type": "stream",
     "text": [
      "lineage info for terms ['GO:0097192'] written to GO:0097192-lineage.png\n"
     ]
    }
   ],
   "source": [
    "go.draw_lineage([rec], lineage_img=lineage_png)"
   ]
  },
  {
   "cell_type": "markdown",
   "metadata": {},
   "source": [
    "*Note*, the GOATools <code>draw_lineage</code> function will output a PNG to <code>./GO_lineage.png</code>, or whatever is defined by the argument <code>lineage_img</code>. This can be viewed with your system viewer, or included here by running something similar to the following code. It may be necessary to double click on the image and scroll, in order to see the detail."
   ]
  },
  {
   "cell_type": "code",
   "execution_count": 23,
   "metadata": {
    "scrolled": false
   },
   "outputs": [
    {
     "data": {
      "image/png": "[encoded data removed]",
      "text/plain": [
       "<IPython.core.display.Image object>"
      ]
     },
     "execution_count": 23,
     "metadata": {},
     "output_type": "execute_result"
    }
   ],
   "source": [
    "from IPython.display import Image\n",
    "Image(lineage_png)"
   ]
  },
  {
   "cell_type": "markdown",
   "metadata": {},
   "source": [
    "#### Question 2.2.b.\n",
    "Using this figure, what is the most specific term that is in the parent terms of both <code>GO:0097191</code> and <code>GO:0038034</code>? This is also referred to as the lowest common ancestor."
   ]
  },
  {
   "cell_type": "markdown",
   "metadata": {},
   "source": [
    "#### Answer 2.2.b."
   ]
  },
  {
   "cell_type": "markdown",
   "metadata": {},
   "source": [
    "This is possible to read off the graph - the term <code>GO:0007165</code>, _signal transduction_."
   ]
  },
  {
   "cell_type": "markdown",
   "metadata": {},
   "source": [
    "### Exercises 2.3\n",
    "Using the <code>get_term()</code> function, listed below, answer the following questions.\n",
    "\n",
    "*Note*: the <code>get_oboxml()</code> function listed in the chapter, in Source Code 2.1, will no longer work. This is due to an API overhaul of the EMBL-EBI's QuickGO browser.\n",
    "\n",
    "For the interested reader, it is also possible to use the <a href=\"https://github.com/cokelaer/bioservices\"><code>bioservices</code> library</a>, in order to retrieve information from QuickGO (as well as many other web services)."
   ]
  },
  {
   "cell_type": "code",
   "execution_count": 24,
   "metadata": {},
   "outputs": [],
   "source": [
    "from future.standard_library import install_aliases\n",
    "install_aliases()\n",
    "from urllib.request import urlopen\n",
    "import json\n",
    "\n",
    "def get_term(go_id):\n",
    "    \"\"\"\n",
    "        This function retrieves the definition of a given Gene Ontology term,\n",
    "        using EMBL-EBI's QuickGO browser.\n",
    "        Input: go_id - a valid Gene Ontology ID, e.g. GO:0048527.\n",
    "    \"\"\"\n",
    "    quickgo_url = \"https://www.ebi.ac.uk/QuickGO/services/ontology/go/terms/\" + go_id\n",
    "    ret = urlopen(quickgo_url)\n",
    "    \n",
    "    # Check the response\n",
    "    if(ret.getcode() == 200):\n",
    "        term = json.loads(ret.read())\n",
    "        return term['results'][0]\n",
    "    else:\n",
    "        raise ValueError(\"Couldn't receive information from QuickGO. Check GO ID and try again.\")"
   ]
  },
  {
   "cell_type": "markdown",
   "metadata": {},
   "source": [
    "#### Question 2.3.a. \n",
    "Find the name and description of the GO term <code>GO:0048527</code>. _Hint_: print out the dictionary returned by the function and study its structure."
   ]
  },
  {
   "cell_type": "markdown",
   "metadata": {},
   "source": [
    "#### Answer 2.3.a.\n",
    "First, let's get the term information."
   ]
  },
  {
   "cell_type": "code",
   "execution_count": 25,
   "metadata": {},
   "outputs": [],
   "source": [
    "term = get_term(go_id)"
   ]
  },
  {
   "cell_type": "markdown",
   "metadata": {},
   "source": [
    "It might be useful to study the structure of this dictionary, in order to answer this question."
   ]
  },
  {
   "cell_type": "code",
   "execution_count": 26,
   "metadata": {},
   "outputs": [
    {
     "data": {
      "text/plain": [
       "{'id': 'GO:0048527',\n",
       " 'isObsolete': False,\n",
       " 'name': 'lateral root development',\n",
       " 'definition': {'text': 'The process whose specific outcome is the progression of the lateral root over time, from its formation to the mature structure. A lateral root is one formed from pericycle cells located on the xylem radius of the root, as opposed to the initiation of the main root from the embryo proper.'},\n",
       " 'children': [{'id': 'GO:1901332', 'relation': 'negatively_regulates'},\n",
       "  {'id': 'GO:1901333', 'relation': 'positively_regulates'},\n",
       "  {'id': 'GO:0010102', 'relation': 'part_of'},\n",
       "  {'id': 'GO:2000023', 'relation': 'regulates'},\n",
       "  {'id': 'GO:1902089', 'relation': 'part_of'}],\n",
       " 'aspect': 'biological_process',\n",
       " 'usage': 'Unrestricted'}"
      ]
     },
     "execution_count": 26,
     "metadata": {},
     "output_type": "execute_result"
    }
   ],
   "source": [
    "term"
   ]
  },
  {
   "cell_type": "markdown",
   "metadata": {},
   "source": [
    "Now we can extract the relevant data."
   ]
  },
  {
   "cell_type": "code",
   "execution_count": 27,
   "metadata": {},
   "outputs": [
    {
     "name": "stdout",
     "output_type": "stream",
     "text": [
      "Description of GO:0048527 is:\n",
      "\tThe process whose specific outcome is the progression of the lateral root over time, from its formation to the mature structure. A lateral root is one formed from pericycle cells located on the xylem radius of the root, as opposed to the initiation of the main root from the embryo proper.\n"
     ]
    }
   ],
   "source": [
    "print('Description of {} is:\\n\\t{}'.format(go_id, term['definition']['text']))"
   ]
  },
  {
   "cell_type": "markdown",
   "metadata": {},
   "source": [
    "#### Question 2.3.b.\n",
    "Look at the difference in the OBO-XML output for the GO terms <code>GO:00048527</code> and <code>GO:0097178</code>, then generate a table of the synonymous relationships of the term <code>GO:0097178</code>."
   ]
  },
  {
   "cell_type": "markdown",
   "metadata": {},
   "source": [
    "#### Answer 2.3.b."
   ]
  },
  {
   "cell_type": "markdown",
   "metadata": {},
   "source": [
    "Firstly, generate the OBO-XML dictionary for this new term."
   ]
  },
  {
   "cell_type": "code",
   "execution_count": 28,
   "metadata": {},
   "outputs": [],
   "source": [
    "term1 = get_term(go_id1)"
   ]
  },
  {
   "cell_type": "markdown",
   "metadata": {},
   "source": [
    "We can then extract the synonyms as follows."
   ]
  },
  {
   "cell_type": "code",
   "execution_count": 29,
   "metadata": {},
   "outputs": [
    {
     "data": {
      "text/plain": [
       "{'id': 'GO:0097178',\n",
       " 'isObsolete': False,\n",
       " 'name': 'ruffle assembly',\n",
       " 'definition': {'text': 'The aggregation, arrangement and bonding together of a set of components to form a ruffle, a projection at the leading edge of a crawling cell; the protrusions are supported by a microfilament meshwork. The formation of ruffles (also called membrane ruffling) is thought to be controlled by a group of enzymes known as Rho GTPases, specifically RhoA, Rac1 and cdc42.',\n",
       "  'xrefs': [{'dbCode': 'PMID', 'dbId': '12556481'},\n",
       "   {'dbCode': 'URL', 'dbId': 'http:en.wikipedia.org/wiki/Membrane_ruffling'}]},\n",
       " 'synonyms': [{'name': 'membrane ruffle formation', 'type': 'exact'},\n",
       "  {'name': 'membrane ruffling', 'type': 'exact'}],\n",
       " 'children': [{'id': 'GO:1900029', 'relation': 'positively_regulates'},\n",
       "  {'id': 'GO:1900028', 'relation': 'negatively_regulates'},\n",
       "  {'id': 'GO:1900027', 'relation': 'regulates'}],\n",
       " 'aspect': 'biological_process',\n",
       " 'usage': 'Unrestricted'}"
      ]
     },
     "execution_count": 29,
     "metadata": {},
     "output_type": "execute_result"
    }
   ],
   "source": [
    "term1"
   ]
  },
  {
   "cell_type": "code",
   "execution_count": 30,
   "metadata": {},
   "outputs": [
    {
     "data": {
      "text/plain": [
       "[{'name': 'membrane ruffle formation', 'type': 'exact'},\n",
       " {'name': 'membrane ruffling', 'type': 'exact'}]"
      ]
     },
     "execution_count": 30,
     "metadata": {},
     "output_type": "execute_result"
    }
   ],
   "source": [
    "term1['synonyms']"
   ]
  },
  {
   "cell_type": "code",
   "execution_count": 31,
   "metadata": {},
   "outputs": [
    {
     "name": "stdout",
     "output_type": "stream",
     "text": [
      "[{'name': 'membrane ruffle formation', 'type': 'exact'}, {'name': 'membrane ruffling', 'type': 'exact'}]\n"
     ]
    }
   ],
   "source": [
    "synonyms = term1['synonyms']\n",
    "print(synonyms)"
   ]
  },
  {
   "cell_type": "markdown",
   "metadata": {},
   "source": [
    "As an example, this can be nicely formatted using the <code>AsciiTable</code> module in the terminaltables package (which you may need to install)."
   ]
  },
  {
   "cell_type": "code",
   "execution_count": 32,
   "metadata": {},
   "outputs": [
    {
     "name": "stdout",
     "output_type": "stream",
     "text": [
      "+-------+---------------------------+\n",
      "| Type  | Synonym                   |\n",
      "+-------+---------------------------+\n",
      "| exact | membrane ruffle formation |\n",
      "| exact | membrane ruffling         |\n",
      "+-------+---------------------------+\n"
     ]
    }
   ],
   "source": [
    "from terminaltables import AsciiTable\n",
    "\n",
    "# Initialise table data and set header\n",
    "table_data = [['Type', 'Synonym']]\n",
    "for synonym in synonyms:\n",
    "    table_data.append([synonym['type'], synonym['name']])\n",
    "print(AsciiTable(table_data).table)"
   ]
  },
  {
   "cell_type": "markdown",
   "metadata": {},
   "source": [
    "## Section 3 - Retrieving GO annotations\n",
    "\n",
    "In this section we will look at how to manipulate the Gene Association File (GAF) standard, using a parser from the BioPython package."
   ]
  },
  {
   "cell_type": "code",
   "execution_count": 33,
   "metadata": {},
   "outputs": [],
   "source": [
    "import Bio.UniProt.GOA as GOA"
   ]
  },
  {
   "cell_type": "markdown",
   "metadata": {},
   "source": [
    "First we need to download a GAF file from the EBI FTP website, which hosts the current and all previous UniProt-GOA annotations. The links to these can be found on the <a href=\"https://www.ebi.ac.uk/GOA/downloads\">EBI GOA Downloads page</a>. "
   ]
  },
  {
   "cell_type": "markdown",
   "metadata": {},
   "source": [
    "As an example, we are going to download the reduced GAF file containing gene association data for *Arabidopsis Thaliana*."
   ]
  },
  {
   "cell_type": "code",
   "execution_count": 34,
   "metadata": {},
   "outputs": [],
   "source": [
    "import os\n",
    "from ftplib import FTP\n",
    "arab_uri = '/pub/databases/GO/goa/ARABIDOPSIS/goa_arabidopsis.gaf.gz'\n",
    "arab_fn = arab_uri.split('/')[-1]\n",
    "\n",
    "# Check if the file exists already\n",
    "arab_gaf = os.path.join(data_folder, arab_fn)\n",
    "if(not os.path.isfile(arab_gaf)):\n",
    "    # Login to FTP server\n",
    "    ebi_ftp = FTP('ftp.ebi.ac.uk')\n",
    "    ebi_ftp.login() # Logs in anonymously\n",
    "    \n",
    "    # Download\n",
    "    with open(arab_gaf,'wb') as arab_fp:\n",
    "        ebi_ftp.retrbinary('RETR {}'.format(arab_uri), arab_fp.write)\n",
    "        \n",
    "    # Logout from FTP server\n",
    "    ebi_ftp.quit()"
   ]
  },
  {
   "cell_type": "markdown",
   "metadata": {},
   "source": [
    "Now we can load all the annotations into a dictionary, using the iterator from the BioPython package (<code>Bio.UniProt.GOA.gafiterator</code>)."
   ]
  },
  {
   "cell_type": "code",
   "execution_count": 35,
   "metadata": {},
   "outputs": [],
   "source": [
    "import gzip\n",
    "\n",
    "# File is a gunzip file, so we need to open it in this way\n",
    "with gzip.open(arab_gaf, 'rt') as arab_gaf_fp:\n",
    "    arab_funcs = {}  # Initialise the dictionary of functions\n",
    "    \n",
    "    # Iterate on each function using Bio.UniProt.GOA library.\n",
    "    for entry in GOA.gafiterator(arab_gaf_fp):\n",
    "        uniprot_id = entry.pop('DB_Object_ID')\n",
    "        arab_funcs[uniprot_id] = entry"
   ]
  },
  {
   "cell_type": "markdown",
   "metadata": {},
   "source": [
    "Now we have a structure of the annotations which can manipulated. Each of the entries have been loaded in the following form.\n"
   ]
  },
  {
   "cell_type": "code",
   "execution_count": 36,
   "metadata": {},
   "outputs": [
    {
     "name": "stdout",
     "output_type": "stream",
     "text": [
      "{'DB': 'UniProtKB', 'DB_Object_Symbol': 'PIAL1', 'Qualifier': [''], 'GO_ID': 'GO:0051176', 'DB:Reference': ['PMID:25415977'], 'Evidence': 'IGI', 'With': ['AGI_LocusCode:AT5G41580'], 'Aspect': 'P', 'DB_Object_Name': 'E4 SUMO-protein ligase PIAL1', 'Synonym': ['PIAL1', 'EMB3001', 'At1g08910', 'F7G19.21'], 'DB_Object_Type': 'protein', 'Taxon_ID': ['taxon:3702'], 'Date': '20141218', 'Assigned_By': 'TAIR', 'Annotation_Extension': '', 'Gene_Product_Form_ID': ''}\n"
     ]
    }
   ],
   "source": [
    "print(arab_funcs[list(arab_funcs.keys())[0]])"
   ]
  },
  {
   "cell_type": "markdown",
   "metadata": {},
   "source": [
    "### Exercises 3.1"
   ]
  },
  {
   "cell_type": "markdown",
   "metadata": {},
   "source": [
    "#### Question 3.1.a.\n",
    "Find the total number of annotations for Arabidopsis thaliana with <code>NOT</code> qualifiers. What is this as a percentage of the total number of annotations for this species?"
   ]
  },
  {
   "cell_type": "markdown",
   "metadata": {},
   "source": [
    "#### Answer 3.1.a."
   ]
  },
  {
   "cell_type": "markdown",
   "metadata": {},
   "source": [
    "This is possible by looping through each of the values and checking whether <code>NOT</code> is listed as one of the qualifiers.\n",
    "\n",
    "Even though here it doesn't make a difference if we check either\n",
    "\n",
    "<code>if 'NOT' in func['Qualifier']</code>\n",
    "\n",
    "or\n",
    "\n",
    "<code>if 'NOT' in func['Qualifier'][0]</code>\n",
    "\n",
    "the first is preferred. This is because there can be multiple qualifiers for a given annotation."
   ]
  },
  {
   "cell_type": "code",
   "execution_count": 37,
   "metadata": {},
   "outputs": [
    {
     "name": "stdout",
     "output_type": "stream",
     "text": [
      "Total count of NOT qualifiers: 802 (3.17%)\n",
      "Total number of annotations: 25289\n"
     ]
    }
   ],
   "source": [
    "not_count = 0\n",
    "total_count = len(arab_funcs)\n",
    "for func in arab_funcs.values():\n",
    "    if 'NOT' in func['Qualifier']:\n",
    "        not_count += 1\n",
    "        \n",
    "\n",
    "print('Total count of NOT qualifiers: {} ({}%)'.format(not_count, round(((float(not_count)/float(total_count))*100),2)))\n",
    "print('Total number of annotations: {}'.format(total_count))"
   ]
  },
  {
   "cell_type": "markdown",
   "metadata": {},
   "source": [
    "#### Question 3.1.b.\n",
    "How many genes (of _Arabidopsis thaliana_) have the annotation <code>GO:0048527</code>?"
   ]
  },
  {
   "cell_type": "markdown",
   "metadata": {},
   "source": [
    "#### Answer 3.1.b."
   ]
  },
  {
   "cell_type": "markdown",
   "metadata": {},
   "source": [
    "This is done by checking each annotation if its <code>GO_ID</code> entry is equal to the required term's ID.\n",
    "\n",
    "Further, here there has been a check on the taxonomic ID. This isn't strictly necessary, but would be required if the annotations database contained multiple species."
   ]
  },
  {
   "cell_type": "code",
   "execution_count": 38,
   "metadata": {},
   "outputs": [],
   "source": [
    "arab_tax_id = 3702  # This isn't necessary here, but would be with the full data set.\n",
    "\n",
    "annot_count = 0\n",
    "counted_gene = []\n",
    "for uniprot_id in arab_funcs:\n",
    "    if('taxon:' + str(arab_tax_id) in arab_funcs[uniprot_id]['Taxon_ID']):\n",
    "        if((arab_funcs[uniprot_id]['GO_ID'] == go_id)):\n",
    "            counted_gene.append(uniprot_id)\n",
    "            annot_count += 1\n",
    "del counted_gene"
   ]
  },
  {
   "cell_type": "markdown",
   "metadata": {},
   "source": [
    "We can now find the number of genes:"
   ]
  },
  {
   "cell_type": "code",
   "execution_count": 39,
   "metadata": {},
   "outputs": [
    {
     "name": "stdout",
     "output_type": "stream",
     "text": [
      "17\n"
     ]
    }
   ],
   "source": [
    "print(annot_count)"
   ]
  },
  {
   "cell_type": "markdown",
   "metadata": {},
   "source": [
    "#### Question 3.1.c.\n",
    "Generate a list of annotated proteins which have the word _“growth”_ in their name."
   ]
  },
  {
   "cell_type": "markdown",
   "metadata": {},
   "source": [
    "#### Answer 3.1.c."
   ]
  },
  {
   "cell_type": "markdown",
   "metadata": {},
   "source": [
    "This can be generated in the following way, checking each annotation's <code>DB_Object_Name</code> field for the keyword."
   ]
  },
  {
   "cell_type": "code",
   "execution_count": 40,
   "metadata": {},
   "outputs": [],
   "source": [
    "keyword = 'growth'\n",
    "growth_dict = {x: arab_funcs[x]\n",
    "               for x in arab_funcs \n",
    "               if keyword in arab_funcs[x]['DB_Object_Name']}"
   ]
  },
  {
   "cell_type": "code",
   "execution_count": 41,
   "metadata": {},
   "outputs": [
    {
     "name": "stdout",
     "output_type": "stream",
     "text": [
      "UniProt IDs of annotations with \"growth\" in their name:\n",
      "\t - A0A1P8B471\n",
      "\t - B3H5J1\n",
      "\t - F4KHI3\n",
      "\t - Q3C1C7\n",
      "\t - Q3E880\n",
      "\t - Q6DSU1\n",
      "\t - Q6ID76\n",
      "\t - Q6NNL3\n",
      "\t - Q93VK8\n",
      "\t - Q9FGF6\n",
      "\t - Q9FHF5\n",
      "\t - Q9LI64\n",
      "\t - Q9SI57\n",
      "Total: 13\n"
     ]
    }
   ],
   "source": [
    "print('UniProt IDs of annotations with \"growth\" in their name:')\n",
    "for annot in growth_dict:\n",
    "    print(\"\\t - \" + annot)\n",
    "print(\"Total: {}\".format(len(growth_dict)))"
   ]
  },
  {
   "cell_type": "markdown",
   "metadata": {},
   "source": [
    "#### Question 3.1.d.\n",
    "There are 21 evidence codes used in the Gene Ontology project. As discussed in Chapter 3, many of these are inferred, either by curators or automatically. Find the counts of each evidence code for in the Arabidopsis thaliana annotation file."
   ]
  },
  {
   "cell_type": "markdown",
   "metadata": {},
   "source": [
    "#### Answer 3.1.d."
   ]
  },
  {
   "cell_type": "markdown",
   "metadata": {},
   "source": [
    "This can be done by looping through each of the annotations, counting each of thier evidence codes and placing them into a dictionary."
   ]
  },
  {
   "cell_type": "code",
   "execution_count": 42,
   "metadata": {},
   "outputs": [],
   "source": [
    "evidence_count = {}\n",
    "for annotation in arab_funcs:\n",
    "    evidence = arab_funcs[annotation]['Evidence']\n",
    "    \n",
    "    if(evidence not in evidence_count):\n",
    "        evidence_count[evidence] = 1\n",
    "    else:\n",
    "        evidence_count[evidence] += 1"
   ]
  },
  {
   "cell_type": "markdown",
   "metadata": {},
   "source": [
    "The counts are then:"
   ]
  },
  {
   "cell_type": "code",
   "execution_count": 43,
   "metadata": {},
   "outputs": [
    {
     "name": "stdout",
     "output_type": "stream",
     "text": [
      "+---------------+-------+\n",
      "| Evidence Code | Count |\n",
      "+---------------+-------+\n",
      "| IBA           | 4730  |\n",
      "| IC            | 1     |\n",
      "| IDA           | 1911  |\n",
      "| IEA           | 11020 |\n",
      "| IEP           | 551   |\n",
      "| IGI           | 326   |\n",
      "| IMP           | 2068  |\n",
      "| IPI           | 227   |\n",
      "| ISM           | 18    |\n",
      "| ISS           | 332   |\n",
      "| NAS           | 11    |\n",
      "| ND            | 3295  |\n",
      "| RCA           | 463   |\n",
      "| TAS           | 336   |\n",
      "+---------------+-------+\n"
     ]
    }
   ],
   "source": [
    "table_data = [['Evidence Code', 'Count']]\n",
    "for code in sorted(evidence_count.keys()):\n",
    "    table_data.append([code, str(evidence_count[code])])\n",
    "print(AsciiTable(table_data).table)"
   ]
  },
  {
   "cell_type": "markdown",
   "metadata": {},
   "source": [
    "(All others are zero.)"
   ]
  },
  {
   "cell_type": "markdown",
   "metadata": {},
   "source": [
    "#### Question 3.1.f (Extension Question).\n",
    "To help visualise the counts of each evidence code found in the previous question, produce a pie chart showing the proportion of annotations with each evidence code for the *Arabidopsis thaliana* annotations dataset."
   ]
  },
  {
   "cell_type": "markdown",
   "metadata": {},
   "source": [
    "#### Answer 3.1.f."
   ]
  },
  {
   "cell_type": "markdown",
   "metadata": {},
   "source": [
    "In order to draw the pie chart, we need to convert the counts into percentages."
   ]
  },
  {
   "cell_type": "code",
   "execution_count": 44,
   "metadata": {},
   "outputs": [],
   "source": [
    "evidence_percent = {}\n",
    "for code in evidence_count:\n",
    "        evidence_percent[code] = ((float(evidence_count[code]) /\n",
    "                                   float(total_count))\n",
    "                                  *100)"
   ]
  },
  {
   "cell_type": "markdown",
   "metadata": {},
   "source": [
    "Now we can have a look at the counts and percentages for each evidence code."
   ]
  },
  {
   "cell_type": "code",
   "execution_count": 45,
   "metadata": {},
   "outputs": [
    {
     "name": "stdout",
     "output_type": "stream",
     "text": [
      "+---------------+-------+----------------+\n",
      "| Evidence Code | Count | Percentage (%) |\n",
      "+---------------+-------+----------------+\n",
      "| IBA           | 4730  | 18.7           |\n",
      "| IC            | 1     | 0.0            |\n",
      "| IDA           | 1911  | 7.56           |\n",
      "| IEA           | 11020 | 43.58          |\n",
      "| IEP           | 551   | 2.18           |\n",
      "| IGI           | 326   | 1.29           |\n",
      "| IMP           | 2068  | 8.18           |\n",
      "| IPI           | 227   | 0.9            |\n",
      "| ISM           | 18    | 0.07           |\n",
      "| ISS           | 332   | 1.31           |\n",
      "| NAS           | 11    | 0.04           |\n",
      "| ND            | 3295  | 13.03          |\n",
      "| RCA           | 463   | 1.83           |\n",
      "| TAS           | 336   | 1.33           |\n",
      "+---------------+-------+----------------+\n"
     ]
    }
   ],
   "source": [
    "table_data = [['Evidence Code', 'Count', 'Percentage (%)']]\n",
    "for code in sorted(evidence_count.keys()):\n",
    "    table_data.append([code, str(evidence_count[code]), str(round(evidence_percent[code],2))])\n",
    "print(AsciiTable(table_data).table)"
   ]
  },
  {
   "cell_type": "markdown",
   "metadata": {},
   "source": [
    "Now we are going to plot this information as a pie chart, in order to better visualise the lack of experimental evidence."
   ]
  },
  {
   "cell_type": "code",
   "execution_count": 46,
   "metadata": {},
   "outputs": [
    {
     "data": {
      "image/png": "[encoded data removed]",
      "text/plain": [
       "<Figure size 768x768 with 1 Axes>"
      ]
     },
     "metadata": {},
     "output_type": "display_data"
    }
   ],
   "source": [
    "# Declare matplotlib as inline and import pyplot\n",
    "%matplotlib inline\n",
    "from matplotlib import pyplot\n",
    "\n",
    "# Setup the figure\n",
    "fig = pyplot.figure(1, figsize=(8,8), dpi=96)\n",
    "ax=fig.add_axes([0.1,0.1,0.8,0.8])\n",
    "\n",
    "# Extract the lables / percentages\n",
    "labels = evidence_percent.keys()\n",
    "fracs = evidence_percent.values()\n",
    "\n",
    "# Make IEA obvious by \"exploding\" it\n",
    "explode = [int('IEA' in x)*0.1 for x in labels]\n",
    "\n",
    "# Plot the pie chart\n",
    "patches, texts = ax.pie(list(fracs), explode=explode, startangle=90, labeldistance=1.1) \n",
    "\n",
    "# Add \n",
    "ax.legend(patches, labels, bbox_to_anchor=(1.2, 0.75), fontsize=12)\n",
    "pyplot.show()"
   ]
  },
  {
   "cell_type": "markdown",
   "metadata": {},
   "source": [
    "## Section 4 - GO enrichment or depletion analysis"
   ]
  },
  {
   "cell_type": "markdown",
   "metadata": {},
   "source": [
    "In this section, the <code>GOEnrichmentStudy()</code> function from the GOATools library will be used to perform GO enrichment analysis."
   ]
  },
  {
   "cell_type": "code",
   "execution_count": 47,
   "metadata": {},
   "outputs": [],
   "source": [
    "from goatools.go_enrichment import GOEnrichmentStudy"
   ]
  },
  {
   "cell_type": "markdown",
   "metadata": {},
   "source": [
    "### Exercises 4.1"
   ]
  },
  {
   "cell_type": "markdown",
   "metadata": {},
   "source": [
    "Perform an enrichment analysis using the list of genes with the _\"growth\"_ keyword from exercise 3.1.c, and the GO structure from exercise 2.1."
   ]
  },
  {
   "cell_type": "markdown",
   "metadata": {},
   "source": [
    "The population is the functions observed in the _Arabidopsis thaliana_ GOA file."
   ]
  },
  {
   "cell_type": "code",
   "execution_count": 48,
   "metadata": {},
   "outputs": [],
   "source": [
    "pop = arab_funcs.keys()"
   ]
  },
  {
   "cell_type": "markdown",
   "metadata": {},
   "source": [
    "Then, we need to create a dictionary of genes with their UniProt ID as a key and their set of GO annotations as the values."
   ]
  },
  {
   "cell_type": "code",
   "execution_count": 49,
   "metadata": {},
   "outputs": [],
   "source": [
    "assoc = {}\n",
    "\n",
    "for x in arab_funcs:\n",
    "    if x not in assoc:\n",
    "        assoc[x] = set()\n",
    "    assoc[x].add(str(arab_funcs[x]['GO_ID']))"
   ]
  },
  {
   "cell_type": "markdown",
   "metadata": {},
   "source": [
    "Now, the study set here is those genes with the _\"growth\"_ keyword, found previously."
   ]
  },
  {
   "cell_type": "code",
   "execution_count": 50,
   "metadata": {},
   "outputs": [],
   "source": [
    "study = growth_dict.keys()"
   ]
  },
  {
   "cell_type": "markdown",
   "metadata": {},
   "source": [
    "#### Question 4.1.a.\n",
    "Which GO term is most significantly enriched or depleted? Does this make sense?"
   ]
  },
  {
   "cell_type": "markdown",
   "metadata": {},
   "source": [
    "#### Answer 4.1.a."
   ]
  },
  {
   "cell_type": "markdown",
   "metadata": {},
   "source": [
    "Possible methods for the GOEnrichmentStudy are:"
   ]
  },
  {
   "cell_type": "code",
   "execution_count": 51,
   "metadata": {},
   "outputs": [],
   "source": [
    "methods = [\"bonferroni\", \"sidak\", \"holm\", \"fdr\"]"
   ]
  },
  {
   "cell_type": "markdown",
   "metadata": {},
   "source": [
    "It is possible to run on all methods, or just a subset."
   ]
  },
  {
   "cell_type": "code",
   "execution_count": 52,
   "metadata": {},
   "outputs": [
    {
     "name": "stdout",
     "output_type": "stream",
     "text": [
      "fisher module not installed.  Falling back on scipy.stats.fisher_exact\n"
     ]
    },
    {
     "name": "stderr",
     "output_type": "stream",
     "text": [
      "Propagating term counts to parents ..\n"
     ]
    },
    {
     "name": "stdout",
     "output_type": "stream",
     "text": [
      "100% 25,289 of 25,289 population items found in association\n",
      "100%     13 of     13 study items found in association\n",
      "100%     13 of     13 study items found in population(25289)\n",
      "Calculating 5,364 uncorrected p-values using fisher_scipy_stats\n",
      "   5,364 GO terms are associated with 25,289 of 25,289 population items\n",
      "      40 GO terms are associated with     13 of     13 study items\n",
      "       3 GO terms found significant (< 0.05=alpha) after multitest correction: local bonferroni\n",
      "       3 GO terms found significant (< 0.05=alpha) after multitest correction: local sidak\n",
      "       3 GO terms found significant (< 0.05=alpha) after multitest correction: local holm\n"
     ]
    },
    {
     "name": "stderr",
     "output_type": "stream",
     "text": [
      "Generate p-value distribution for FDR based on resampling (this might take a while)\n",
      "Sample 0 / 500: p-value 0.0010278710533060788\n"
     ]
    },
    {
     "name": "stdout",
     "output_type": "stream",
     "text": [
      "fisher module not installed.  Falling back on scipy.stats.fisher_exact\n"
     ]
    },
    {
     "name": "stderr",
     "output_type": "stream",
     "text": [
      "Sample 10 / 500: p-value 0.0015414407798976498\n",
      "Sample 20 / 500: p-value 0.0005140574953738786\n",
      "Sample 30 / 500: p-value 0.0005140574953738786\n",
      "Sample 40 / 500: p-value 3.303147547493567e-05\n",
      "Sample 50 / 500: p-value 0.0005140574953738786\n",
      "Sample 60 / 500: p-value 0.0005140574953738786\n",
      "Sample 70 / 500: p-value 0.0005140574953738786\n",
      "Sample 80 / 500: p-value 0.0076852972242090695\n",
      "Sample 90 / 500: p-value 0.0010278710533060788\n",
      "Sample 100 / 500: p-value 0.002054766781135086\n",
      "Sample 110 / 500: p-value 0.0010278710533060788\n",
      "Sample 120 / 500: p-value 0.0005140574953738786\n",
      "Sample 130 / 500: p-value 9.826609994798967e-05\n",
      "Sample 140 / 500: p-value 0.000318804720807801\n",
      "Sample 150 / 500: p-value 0.0010278710533060788\n",
      "Sample 160 / 500: p-value 4.150813978478498e-05\n",
      "Sample 170 / 500: p-value 0.0010278710533060788\n",
      "Sample 180 / 500: p-value 0.00026027744906719874\n",
      "Sample 190 / 500: p-value 0.003593283493731873\n",
      "Sample 200 / 500: p-value 0.0010278710533060788\n",
      "Sample 210 / 500: p-value 0.002054766781135086\n",
      "Sample 220 / 500: p-value 0.0005140574953738786\n",
      "Sample 230 / 500: p-value 0.0010278710533060788\n",
      "Sample 240 / 500: p-value 0.0015414407798976498\n",
      "Sample 250 / 500: p-value 0.004105635653855762\n",
      "Sample 260 / 500: p-value 0.002054766781135086\n",
      "Sample 270 / 500: p-value 0.002054766781135086\n",
      "Sample 280 / 500: p-value 0.0005140574953738786\n",
      "Sample 290 / 500: p-value 0.0005140574953738786\n",
      "Sample 300 / 500: p-value 0.003593283493731873\n",
      "Sample 310 / 500: p-value 0.0005140574953738786\n",
      "Sample 320 / 500: p-value 0.000160821606967919\n",
      "Sample 330 / 500: p-value 0.0005140574953738786\n",
      "Sample 340 / 500: p-value 0.0005140574953738786\n",
      "Sample 350 / 500: p-value 0.0005140574953738786\n",
      "Sample 360 / 500: p-value 3.303147547493567e-05\n",
      "Sample 370 / 500: p-value 0.0005140574953738786\n",
      "Sample 380 / 500: p-value 0.0010278710533060788\n",
      "Sample 390 / 500: p-value 0.0010278710533060788\n",
      "Sample 400 / 500: p-value 0.0010278710533060788\n",
      "Sample 410 / 500: p-value 0.0010278710533060788\n",
      "Sample 420 / 500: p-value 0.0005140574953738786\n",
      "Sample 430 / 500: p-value 0.0010278710533060788\n",
      "Sample 440 / 500: p-value 0.0005140574953738786\n",
      "Sample 450 / 500: p-value 0.0005140574953738786\n",
      "Sample 460 / 500: p-value 0.0010278710533060788\n",
      "Sample 470 / 500: p-value 0.0005140574953738786\n",
      "Sample 480 / 500: p-value 0.0010278710533060788\n",
      "Sample 490 / 500: p-value 0.0010278710533060788\n"
     ]
    },
    {
     "name": "stdout",
     "output_type": "stream",
     "text": [
      "       5 GO terms found significant (< 0.05=alpha) after multitest correction: local fdr\n"
     ]
    }
   ],
   "source": [
    "g = GOEnrichmentStudy(pop, assoc, go,\n",
    "                         propagate_counts=True,\n",
    "                         alpha=0.05,\n",
    "                         methods=methods)\n",
    "g_res = g.run_study(study)"
   ]
  },
  {
   "cell_type": "code",
   "execution_count": 53,
   "metadata": {},
   "outputs": [
    {
     "name": "stdout",
     "output_type": "stream",
     "text": [
      "GO\tNS\tenrichment\tname\tratio_in_study\tratio_in_pop\tp_uncorrected\tdepth\tstudy_count\tp_bonferroni\tp_sidak\tp_holm\tp_fdr\tstudy_items\n",
      "GO:0030154\tBP\te\tcell differentiation          \t6/13\t57/25289\t1.69e-13\t3\t6\t9.09e-10\t8.86e-10\t9.09e-10\t0\tQ3E880, Q6DSU1, Q6ID76, Q6NNL3, Q9LI64, Q9SI57\n",
      "GO:0048869\tBP\te\tcellular developmental process\t6/13\t113/25289\t1.16e-11\t2\t6\t6.24e-08\t6.09e-08\t6.24e-08\t0\tQ3E880, Q6DSU1, Q6ID76, Q6NNL3, Q9LI64, Q9SI57\n",
      "GO:0032502\tBP\te\tdevelopmental process         \t7/13\t712/25289\t2.02e-08\t1\t7\t0.000108\t0.000105\t0.000108\t0\tB3H5J1, Q3E880, Q6DSU1, Q6ID76, Q6NNL3, Q9LI64, Q9SI57\n",
      "GO:2000012\tBP\te\tregulation of auxin polar transport\t2/13\t20/25289\t4.61e-05\t5\t2\t0.247\t0.241\t0.247\t0.014\t Q93VK8, Q9FGF6\n",
      "GO:0051049\tBP\te\tregulation of transport       \t2/13\t42/25289\t0.000208\t4\t2\t1\t1\t1\t0.036\t Q93VK8, Q9FGF6\n",
      "GO:0010817\tBP\te\tregulation of hormone levels  \t2/13\t69/25289\t0.000561\t3\t2\t1\t1\t1\t0.422\t Q93VK8, Q9FGF6\n",
      "GO:0032879\tBP\te\tregulation of localization    \t2/13\t107/25289\t0.00134\t3\t2\t1\t1\t1\t0.638\t Q93VK8, Q9FGF6\n",
      "GO:0065008\tBP\te\tregulation of biological quality\t2/13\t265/25289\t0.00791\t2\t2\t1\t1\t1\t0.988\t Q93VK8, Q9FGF6\n",
      "GO:0048527\tBP\te\tlateral root development      \t1/13\t17/25289\t0.00871\t6\t1\t1\t1\t1\t0.99\t         B3H5J1\n"
     ]
    }
   ],
   "source": [
    "g.print_results(g_res, min_ratio=None, pval=0.01)"
   ]
  },
  {
   "cell_type": "markdown",
   "metadata": {},
   "source": [
    "We can see that the most significant term is <code>GO:0030154</code> (cell differentiation). It makes sense that this would be associated with proteins having the keyword _\"growth\"_ in their name."
   ]
  },
  {
   "cell_type": "markdown",
   "metadata": {},
   "source": [
    "#### Question 4.1.b.\n",
    "How many terms are enriched, when using the Bonferroni corrected method and a p-value $\\le$ 0.01?"
   ]
  },
  {
   "cell_type": "markdown",
   "metadata": {},
   "source": [
    "#### Answer 4.1.b."
   ]
  },
  {
   "cell_type": "markdown",
   "metadata": {},
   "source": [
    "Perform the GO Enrichment study using the Bonferroni corrected method."
   ]
  },
  {
   "cell_type": "code",
   "execution_count": 54,
   "metadata": {},
   "outputs": [
    {
     "name": "stdout",
     "output_type": "stream",
     "text": [
      "fisher module not installed.  Falling back on scipy.stats.fisher_exact\n"
     ]
    },
    {
     "name": "stderr",
     "output_type": "stream",
     "text": [
      "Propagating term counts to parents ..\n"
     ]
    },
    {
     "name": "stdout",
     "output_type": "stream",
     "text": [
      "100% 25,289 of 25,289 population items found in association\n",
      "100%     13 of     13 study items found in association\n",
      "100%     13 of     13 study items found in population(25289)\n",
      "Calculating 5,364 uncorrected p-values using fisher_scipy_stats\n",
      "   5,364 GO terms are associated with 25,289 of 25,289 population items\n",
      "      40 GO terms are associated with     13 of     13 study items\n",
      "       3 GO terms found significant (< 0.01=alpha) after multitest correction: local bonferroni\n"
     ]
    }
   ],
   "source": [
    "g_bonferroni = GOEnrichmentStudy(pop, assoc, go,\n",
    "                                 propagate_counts=True,\n",
    "                                 alpha=0.01,\n",
    "                                 methods=['bonferroni'])\n",
    "g_bonferroni_res = g_bonferroni.run_study(study)"
   ]
  },
  {
   "cell_type": "code",
   "execution_count": 55,
   "metadata": {},
   "outputs": [],
   "source": [
    "s_bonferroni = []\n",
    "for x in g_bonferroni_res:\n",
    "    if x.p_bonferroni <= 0.01:\n",
    "        s_bonferroni.append((x.goterm.id, x.p_bonferroni))"
   ]
  },
  {
   "cell_type": "code",
   "execution_count": 56,
   "metadata": {},
   "outputs": [
    {
     "name": "stdout",
     "output_type": "stream",
     "text": [
      "[('GO:0030154', 9.088903406049323e-10), ('GO:0048869', 6.244383841758757e-08), ('GO:0032502', 0.00010815519774707948)]\n"
     ]
    }
   ],
   "source": [
    "print(s_bonferroni)"
   ]
  },
  {
   "cell_type": "markdown",
   "metadata": {},
   "source": [
    "#### Question 4.1.c.\n",
    "How many terms are enriched with false discovery rate (a.k.a. q-value) $\\le$ 0.01?"
   ]
  },
  {
   "cell_type": "markdown",
   "metadata": {},
   "source": [
    "#### Answer 4.1.c."
   ]
  },
  {
   "cell_type": "code",
   "execution_count": 57,
   "metadata": {},
   "outputs": [
    {
     "name": "stdout",
     "output_type": "stream",
     "text": [
      "fisher module not installed.  Falling back on scipy.stats.fisher_exact\n"
     ]
    },
    {
     "name": "stderr",
     "output_type": "stream",
     "text": [
      "Propagating term counts to parents ..\n"
     ]
    },
    {
     "name": "stdout",
     "output_type": "stream",
     "text": [
      "100% 25,289 of 25,289 population items found in association\n",
      "100%     13 of     13 study items found in association\n",
      "100%     13 of     13 study items found in population(25289)\n",
      "Calculating 5,364 uncorrected p-values using fisher_scipy_stats\n",
      "   5,364 GO terms are associated with 25,289 of 25,289 population items\n",
      "      40 GO terms are associated with     13 of     13 study items\n",
      "fisher module not installed.  Falling back on scipy.stats.fisher_exact\n"
     ]
    },
    {
     "name": "stderr",
     "output_type": "stream",
     "text": [
      "Generate p-value distribution for FDR based on resampling (this might take a while)\n",
      "Sample 0 / 500: p-value 0.011253078458717746\n",
      "Sample 10 / 500: p-value 0.0005140574953738786\n",
      "Sample 20 / 500: p-value 0.0010278710533060788\n",
      "Sample 30 / 500: p-value 0.0005140574953738786\n",
      "Sample 40 / 500: p-value 0.0005140574953738786\n",
      "Sample 50 / 500: p-value 0.0008701371457487843\n",
      "Sample 60 / 500: p-value 0.0005140574953738786\n",
      "Sample 70 / 500: p-value 0.0005140574953738786\n",
      "Sample 80 / 500: p-value 0.0015414407798976498\n",
      "Sample 90 / 500: p-value 0.0010278710533060788\n",
      "Sample 100 / 500: p-value 0.0005140574953738786\n",
      "Sample 110 / 500: p-value 0.003593283493731873\n",
      "Sample 120 / 500: p-value 0.0010278710533060788\n",
      "Sample 130 / 500: p-value 0.0005140574953738786\n",
      "Sample 140 / 500: p-value 0.006663750638263605\n",
      "Sample 150 / 500: p-value 0.003080688032113681\n",
      "Sample 160 / 500: p-value 0.0015414407798976498\n",
      "Sample 170 / 500: p-value 0.0010278710533060788\n",
      "Sample 180 / 500: p-value 0.004105635653855762\n",
      "Sample 190 / 500: p-value 0.0010278710533060788\n",
      "Sample 200 / 500: p-value 0.0005140574953738786\n",
      "Sample 210 / 500: p-value 0.0010278710533060788\n",
      "Sample 220 / 500: p-value 0.003593283493731873\n",
      "Sample 230 / 500: p-value 0.0005140574953738786\n",
      "Sample 240 / 500: p-value 0.0010278710533060788\n",
      "Sample 250 / 500: p-value 0.0005140574953738786\n",
      "Sample 260 / 500: p-value 0.0005140574953738786\n",
      "Sample 270 / 500: p-value 0.0010278710533060788\n",
      "Sample 280 / 500: p-value 0.003080688032113681\n",
      "Sample 290 / 500: p-value 0.0005140574953738786\n",
      "Sample 300 / 500: p-value 0.0031108913301437103\n",
      "Sample 310 / 500: p-value 0.0010278710533060788\n",
      "Sample 320 / 500: p-value 0.0010278710533060788\n",
      "Sample 330 / 500: p-value 0.0005140574953738786\n",
      "Sample 340 / 500: p-value 0.0010278710533060788\n",
      "Sample 350 / 500: p-value 0.011761793778736767\n",
      "Sample 360 / 500: p-value 0.0010278710533060788\n",
      "Sample 370 / 500: p-value 0.0005140574953738786\n",
      "Sample 380 / 500: p-value 0.0005140574953738786\n",
      "Sample 390 / 500: p-value 0.0005140574953738786\n",
      "Sample 400 / 500: p-value 0.011253078458717746\n",
      "Sample 410 / 500: p-value 0.0005140574953738786\n",
      "Sample 420 / 500: p-value 0.0005140574953738786\n",
      "Sample 430 / 500: p-value 0.0010278710533060788\n",
      "Sample 440 / 500: p-value 0.0005140574953738786\n",
      "Sample 450 / 500: p-value 0.0010278710533060788\n",
      "Sample 460 / 500: p-value 0.0010278710533060788\n",
      "Sample 470 / 500: p-value 0.0005140574953738786\n",
      "Sample 480 / 500: p-value 0.002567849163328763\n",
      "Sample 490 / 500: p-value 0.0005140574953738786\n"
     ]
    },
    {
     "name": "stdout",
     "output_type": "stream",
     "text": [
      "       5 GO terms found significant (< 0.05=alpha) after multitest correction: local fdr\n"
     ]
    }
   ],
   "source": [
    "g_fdr = GOEnrichmentStudy(pop, assoc, go,\n",
    "                          propagate_counts=True,\n",
    "                          alpha=0.05,\n",
    "                          methods=['fdr'])\n",
    "g_fdr_res = g_fdr.run_study(study)"
   ]
  },
  {
   "cell_type": "code",
   "execution_count": 58,
   "metadata": {},
   "outputs": [],
   "source": [
    "s_fdr = []\n",
    "for x in g_fdr_res:\n",
    "    if x.p_fdr <= 0.01:\n",
    "        s_fdr.append((x.goterm.id, x.p_fdr))"
   ]
  },
  {
   "cell_type": "code",
   "execution_count": 59,
   "metadata": {},
   "outputs": [
    {
     "name": "stdout",
     "output_type": "stream",
     "text": [
      "[('GO:0030154', 0.0), ('GO:0048869', 0.0), ('GO:0032502', 0.0), ('GO:2000012', 0.006)]\n"
     ]
    }
   ],
   "source": [
    "print(s_fdr)"
   ]
  },
  {
   "cell_type": "markdown",
   "metadata": {},
   "source": [
    "## Section 5 - Computing basic semantic similarities between GO terms"
   ]
  },
  {
   "cell_type": "markdown",
   "metadata": {},
   "source": [
    "In this section we look at how to compute semantic similarity between GO terms."
   ]
  },
  {
   "cell_type": "code",
   "execution_count": 60,
   "metadata": {},
   "outputs": [],
   "source": [
    "from collections import Counter\n",
    "class TermCounts():\n",
    "    '''\n",
    "        TermCounts counts the term counts for each \n",
    "    '''\n",
    "    def __init__(self, go, annots):\n",
    "        '''\n",
    "            Initialise the counts and  \n",
    "        '''\n",
    "        # Backup\n",
    "        self._go = go\n",
    "        \n",
    "        # Initialise the counters\n",
    "        self._counts = Counter()\n",
    "        self._aspect_counts = Counter()\n",
    "        \n",
    "        # Fill the counters...\n",
    "        self._count_terms(go, annots)\n",
    "        \n",
    "    def _count_terms(self, go, annots):\n",
    "        '''\n",
    "            Fills in the counts and overall aspect counts.\n",
    "        '''\n",
    "        for x in annots:\n",
    "            # Extract term information\n",
    "            go_id = annots[x]['GO_ID']\n",
    "            namespace = go[go_id].namespace\n",
    "\n",
    "            self._counts[go_id] += 1\n",
    "            rec = go[go_id]\n",
    "            parents = rec.get_all_parents()\n",
    "            for p in parents:\n",
    "                self._counts[p] += 1\n",
    "            \n",
    "            self._aspect_counts[namespace] += 1\n",
    "            \n",
    "    def get_count(self, go_id):\n",
    "        '''\n",
    "            Returns the count of that GO term observed in the annotations.\n",
    "        '''\n",
    "        return self._counts[go_id]\n",
    "        \n",
    "    def get_total_count(self, aspect):\n",
    "        '''\n",
    "            Gets the total count that's been precomputed.\n",
    "        '''\n",
    "        return self._aspect_counts[aspect]\n",
    "    \n",
    "    def get_term_freq(self, go_id):\n",
    "        '''\n",
    "            Returns the frequency at which a particular GO term has \n",
    "            been observed in the annotations.\n",
    "        '''\n",
    "        try:\n",
    "            namespace = self._go[go_id].namespace\n",
    "            freq = float(self.get_count(go_id)) / float(self.get_total_count(namespace))\n",
    "        except ZeroDivisionError:\n",
    "            freq = 0\n",
    "        \n",
    "        return freq"
   ]
  },
  {
   "cell_type": "markdown",
   "metadata": {},
   "source": [
    "#### Question 5.1.a.\n",
    "<code>GO:0048364</code> (root development) and <code>GO:0044707</code> (single-multicellular organism process) are two GO terms taken from Figure 1. Calculate the semantic similarity between them based on the inverse of the semantic distance (number of branches separating them)."
   ]
  },
  {
   "cell_type": "markdown",
   "metadata": {},
   "source": [
    "#### Answer 5.1.a."
   ]
  },
  {
   "cell_type": "markdown",
   "metadata": {},
   "source": [
    "First we need to write a function that calculates the minimum number of branches connecting two GO terms."
   ]
  },
  {
   "cell_type": "code",
   "execution_count": 61,
   "metadata": {},
   "outputs": [],
   "source": [
    "def min_branch_length(go_id1, go_id2, go):\n",
    "    '''\n",
    "        Finds the minimum branch length between two terms in the GO DAG.\n",
    "    '''\n",
    "    # First get the deepest common ancestor\n",
    "    dca = deepest_common_ancestor([go_id1, go_id2], go)\n",
    "    \n",
    "    # Then get the distance from the DCA to each term\n",
    "    dca_depth = go[dca].depth\n",
    "    d1 = go[go_id1].depth - dca_depth\n",
    "    d2 = go[go_id2].depth - dca_depth\n",
    "    \n",
    "    # Return the total distance - i.e., to the deepest common ancestor and back.\n",
    "    return d1 + d2"
   ]
  },
  {
   "cell_type": "code",
   "execution_count": 62,
   "metadata": {
    "scrolled": true
   },
   "outputs": [],
   "source": [
    "go_id3 = 'GO:0048364'\n",
    "go_id4 = 'GO:0044707'"
   ]
  },
  {
   "cell_type": "markdown",
   "metadata": {},
   "source": [
    "Now we can calculate the semantic distance and semantic similarity, as so:"
   ]
  },
  {
   "cell_type": "code",
   "execution_count": 63,
   "metadata": {},
   "outputs": [],
   "source": [
    "def semantic_distance(go_id1, go_id2, go):\n",
    "    '''\n",
    "        Finds the semantic distance (minimum number of connecting branches) \n",
    "        between two GO terms.\n",
    "    '''\n",
    "    return min_branch_length(go_id1, go_id2, go)\n",
    "\n",
    "def semantic_similarity(go_id1, go_id2, go):\n",
    "    '''\n",
    "        Finds the semantic similarity (inverse of the semantic distance) \n",
    "        between two GO terms.\n",
    "    '''\n",
    "    return 1.0 / float(semantic_distance(go_id1, go_id2, go))"
   ]
  },
  {
   "cell_type": "code",
   "execution_count": 64,
   "metadata": {},
   "outputs": [
    {
     "name": "stdout",
     "output_type": "stream",
     "text": [
      "The semantic similarity between terms GO:0048364 and GO:0044707 is 0.2.\n"
     ]
    }
   ],
   "source": [
    "sim = semantic_similarity(go_id3, go_id4, go)\n",
    "print('The semantic similarity between terms {} and {} is {}.'.format(go_id3, go_id4, sim))"
   ]
  },
  {
   "cell_type": "markdown",
   "metadata": {},
   "source": [
    "#### Question 5.1.b.\n",
    "Calculate the  the information content (IC) of the GO term <code>GO:0048364</code> (root development), based on the frequency of observation in _Arabidopsis thaliana_."
   ]
  },
  {
   "cell_type": "markdown",
   "metadata": {},
   "source": [
    "#### Answer 5.1.b."
   ]
  },
  {
   "cell_type": "markdown",
   "metadata": {},
   "source": [
    "First we need to define what the information content is."
   ]
  },
  {
   "cell_type": "code",
   "execution_count": 65,
   "metadata": {},
   "outputs": [],
   "source": [
    "import math\n",
    "\n",
    "def ic(go_id, termcounts):\n",
    "    '''\n",
    "        Calculates the information content of a GO term.\n",
    "    '''\n",
    "    # Get the observed frequency of the GO term\n",
    "    freq = termcounts.get_term_freq(go_id)\n",
    "\n",
    "    # Calculate the information content (i.e., -log(\"freq of GO term\")\n",
    "    return -1.0 * math.log(freq)"
   ]
  },
  {
   "cell_type": "markdown",
   "metadata": {},
   "source": [
    "Then we can calculate the information content of the single term, <code>GO:0048364</code>."
   ]
  },
  {
   "cell_type": "code",
   "execution_count": 66,
   "metadata": {},
   "outputs": [],
   "source": [
    "# First get the counts of each GO term.\n",
    "termcounts = TermCounts(go, arab_funcs)\n",
    "\n",
    "# Calculate the information content\n",
    "infocontent = ic(go_id, termcounts)"
   ]
  },
  {
   "cell_type": "code",
   "execution_count": 67,
   "metadata": {},
   "outputs": [
    {
     "name": "stdout",
     "output_type": "stream",
     "text": [
      "6.703332455042499\n"
     ]
    }
   ],
   "source": [
    "print(infocontent)"
   ]
  },
  {
   "cell_type": "markdown",
   "metadata": {},
   "source": [
    "#### Question 5.1.c.\n",
    "Calculate the Resnik similarity measure between the same two terms as in 5.1.a."
   ]
  },
  {
   "cell_type": "markdown",
   "metadata": {},
   "source": [
    "#### Answer 5.1.c."
   ]
  },
  {
   "cell_type": "markdown",
   "metadata": {},
   "source": [
    "Recall that Resnik's similarity measure is defined as the information content of the most informative common ancestor. That is, the most specific common parent-term in the GO."
   ]
  },
  {
   "cell_type": "code",
   "execution_count": 68,
   "metadata": {},
   "outputs": [],
   "source": [
    "def resnik_sim(go_id1, go_id2, go, termcounts):\n",
    "    '''\n",
    "        Computes Resnik's similarity measure.\n",
    "    '''\n",
    "    msca = deepest_common_ancestor([go_id1, go_id2], go)\n",
    "    return ic(msca, termcounts)"
   ]
  },
  {
   "cell_type": "markdown",
   "metadata": {},
   "source": [
    "Then we can calculate this as follows"
   ]
  },
  {
   "cell_type": "code",
   "execution_count": 69,
   "metadata": {},
   "outputs": [],
   "source": [
    "sim_r = resnik_sim(go_id3, go_id4, go, termcounts)"
   ]
  },
  {
   "cell_type": "code",
   "execution_count": 70,
   "metadata": {},
   "outputs": [
    {
     "name": "stdout",
     "output_type": "stream",
     "text": [
      "Resnik similarity score: -0.0\n"
     ]
    }
   ],
   "source": [
    "print('Resnik similarity score: {}'.format(sim_r))"
   ]
  }
 ],
 "metadata": {
  "kernelspec": {
   "display_name": "Python 3",
   "language": "python",
   "name": "python3"
  },
  "language_info": {
   "codemirror_mode": {
    "name": "ipython",
    "version": 3
   },
   "file_extension": ".py",
   "mimetype": "text/x-python",
   "name": "python",
   "nbconvert_exporter": "python",
   "pygments_lexer": "ipython3",
   "version": "3.7.1"
  }
 },
 "nbformat": 4,
 "nbformat_minor": 1
}
